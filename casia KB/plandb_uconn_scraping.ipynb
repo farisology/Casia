{
 "cells": [
  {
   "cell_type": "code",
   "execution_count": 36,
   "id": "1a1ac561-9be3-499e-8133-390459525aea",
   "metadata": {},
   "outputs": [
    {
     "data": {
      "text/html": [
       "<div>\n",
       "<style scoped>\n",
       "    .dataframe tbody tr th:only-of-type {\n",
       "        vertical-align: middle;\n",
       "    }\n",
       "\n",
       "    .dataframe tbody tr th {\n",
       "        vertical-align: top;\n",
       "    }\n",
       "\n",
       "    .dataframe thead th {\n",
       "        text-align: right;\n",
       "    }\n",
       "</style>\n",
       "<table border=\"1\" class=\"dataframe\">\n",
       "  <thead>\n",
       "    <tr style=\"text-align: right;\">\n",
       "      <th></th>\n",
       "      <th>URL</th>\n",
       "      <th>Link</th>\n",
       "    </tr>\n",
       "  </thead>\n",
       "  <tbody>\n",
       "    <tr>\n",
       "      <th>0</th>\n",
       "      <td>detail.php?pid=11</td>\n",
       "      <td>Abelia x grandifloraGlossy Abelia</td>\n",
       "    </tr>\n",
       "    <tr>\n",
       "      <th>1</th>\n",
       "      <td>detail.php?pid=1</td>\n",
       "      <td>Abies balsameaBalsam Fir, Balm of Gilead</td>\n",
       "    </tr>\n",
       "    <tr>\n",
       "      <th>2</th>\n",
       "      <td>detail.php?pid=2</td>\n",
       "      <td>Abies concolorWhite Fir, Concolor Fir</td>\n",
       "    </tr>\n",
       "    <tr>\n",
       "      <th>3</th>\n",
       "      <td>detail.php?pid=3</td>\n",
       "      <td>Abies fraseriFraser Fir, Southern Balsam Fir</td>\n",
       "    </tr>\n",
       "    <tr>\n",
       "      <th>4</th>\n",
       "      <td>detail.php?pid=10</td>\n",
       "      <td>Abies grandisGiant Fir</td>\n",
       "    </tr>\n",
       "    <tr>\n",
       "      <th>...</th>\n",
       "      <td>...</td>\n",
       "      <td>...</td>\n",
       "    </tr>\n",
       "    <tr>\n",
       "      <th>553</th>\n",
       "      <td>detail.php?pid=551</td>\n",
       "      <td>Xanthorhiza simplicissimaYellowroot</td>\n",
       "    </tr>\n",
       "    <tr>\n",
       "      <th>554</th>\n",
       "      <td>detail.php?pid=552</td>\n",
       "      <td>Yucca sp.Yucca, Adam's Needle</td>\n",
       "    </tr>\n",
       "    <tr>\n",
       "      <th>555</th>\n",
       "      <td>detail.php?pid=553</td>\n",
       "      <td>Zanthoxylum americanumPrickly-ash, Toothache Tree</td>\n",
       "    </tr>\n",
       "    <tr>\n",
       "      <th>556</th>\n",
       "      <td>detail.php?pid=554</td>\n",
       "      <td>Zelkova serrataJapanese Zelkova</td>\n",
       "    </tr>\n",
       "    <tr>\n",
       "      <th>557</th>\n",
       "      <td>detail.php?pid=555</td>\n",
       "      <td>Zenobia pulverentaDusty Zenobia</td>\n",
       "    </tr>\n",
       "  </tbody>\n",
       "</table>\n",
       "<p>558 rows × 2 columns</p>\n",
       "</div>"
      ],
      "text/plain": [
       "                    URL                                               Link\n",
       "0     detail.php?pid=11                  Abelia x grandifloraGlossy Abelia\n",
       "1      detail.php?pid=1           Abies balsameaBalsam Fir, Balm of Gilead\n",
       "2      detail.php?pid=2              Abies concolorWhite Fir, Concolor Fir\n",
       "3      detail.php?pid=3       Abies fraseriFraser Fir, Southern Balsam Fir\n",
       "4     detail.php?pid=10                             Abies grandisGiant Fir\n",
       "..                  ...                                                ...\n",
       "553  detail.php?pid=551                Xanthorhiza simplicissimaYellowroot\n",
       "554  detail.php?pid=552                      Yucca sp.Yucca, Adam's Needle\n",
       "555  detail.php?pid=553  Zanthoxylum americanumPrickly-ash, Toothache Tree\n",
       "556  detail.php?pid=554                    Zelkova serrataJapanese Zelkova\n",
       "557  detail.php?pid=555                    Zenobia pulverentaDusty Zenobia\n",
       "\n",
       "[558 rows x 2 columns]"
      ]
     },
     "execution_count": 36,
     "metadata": {},
     "output_type": "execute_result"
    }
   ],
   "source": [
    "import requests\n",
    "from bs4 import BeautifulSoup\n",
    "import pandas as pd\n",
    "import psycopg2\n",
    "\n",
    "# scrpaed list of all the plant details pages in the DB\n",
    "df_index = pd.read_csv(\"plantDB uconn list.csv\")\n",
    "df_index"
   ]
  },
  {
   "cell_type": "code",
   "execution_count": 49,
   "id": "eaa78251-fe9a-4b29-84c9-b6909e7df9c2",
   "metadata": {},
   "outputs": [],
   "source": [
    "def get_plant_details(url_path):\n",
    "    url = f\"https://plantdatabase.uconn.edu/{url_path}\"\n",
    "    \n",
    "    response = requests.get(url)\n",
    "    soup = BeautifulSoup(response.content, \"html.parser\")\n",
    "    \n",
    "    # Find all p and ul tags\n",
    "    p_tags = soup.find_all(\"p\")\n",
    "    ul_tags = soup.find_all(\"ul\")\n",
    "    p_tags.pop(0)\n",
    "    \n",
    "    # Loop through ul tags and extract the text\n",
    "    for p_tag, ul_tag in zip(p_tags, ul_tags):\n",
    "        p = p_tag.get_text(strip=False)\n",
    "        ul = ul_tag.get_text(strip=False)\n",
    "        li_tags = ul_tag.find_all(\"li\")\n",
    "        for li_tag in li_tags:\n",
    "            text = li_tag.get_text(strip=True)\n",
    "        # print(p, \"\\n\")\n",
    "        # print(ul,\"\\n\")\n",
    "        print(p_tag)\n"
   ]
  },
  {
   "cell_type": "code",
   "execution_count": 50,
   "id": "aa0f0489-4ecc-4a6a-91c5-79a9f79155a8",
   "metadata": {},
   "outputs": [
    {
     "name": "stdout",
     "output_type": "stream",
     "text": [
      "<p><font size=\"4\">Habitat</font> </p>\n",
      "      and Form</font> </p>\n",
      "      Foliage</font> </p>\n",
      "      Foliage</font> </p>\n",
      "<p><font size=\"4\">Flowers</font> </p>\n",
      "<p> </p>\n",
      "<p><font size=\"4\">Fruit</font> </p>\n",
      "<p><font size=\"4\">Bark</font> </p>\n",
      "<p><font size=\"4\">Culture</font></p>\n",
      "      Uses</font> </p>scape\n",
      "<p><font size=\"4\">Liabilities</font> </p>\n",
      "      Features</font> </p>\n"
     ]
    }
   ],
   "source": [
    "get_plant_details(\"detail.php?pid=11\")"
   ]
  },
  {
   "cell_type": "code",
   "execution_count": 35,
   "id": "0c3ec3aa-7149-49d4-9e5b-3d736532c92c",
   "metadata": {},
   "outputs": [
    {
     "data": {
      "text/plain": [
       "[<ul> <li>a hybrid cross between <i>A. chinensis</i> and <i>A. uniflora</i></li> <li>developed in Italy</li> <li>zone 6, and warmer parts of 5</li> </ul>,\n",
       " <ul> <li>a deciduous to semi-evergreen medium-small shrub</li> <li>multistemmed and dense</li> <li>arching branches</li> <li>3' to 6' tall and just as wide</li> <li>often killed to the ground, but regrows each year in zone 5</li> <li>medium texture</li> <li>fast growth rate</li> </ul>,\n",
       " <ul> <li>deciduous, simple leaves</li> <li>opposite leaf arrangement</li> <li>1\" long leaves and half as wide</li> <li>rounded leaf base</li> <li>shallow, dentate leaf margins</li> <li>dark green leaf color </li> </ul>,\n",
       " <ul> <li>bronze winter color</li> <li>somewhat showy</li> </ul>,\n",
       " <ul> <li>pinkish-white flowers</li> <li>tubular form</li> <li>fragrant</li> <li>flowering starts in May then continues throughout the summer</li> <li>attracts butterflies </li> </ul>,\n",
       " <ul> <li>not ornamentally significant</li> </ul>,\n",
       " <ul> <li>thin, gray bark</li> <li>young stems are pubescent</li> <li>peeling bark</li> </ul>,\n",
       " <ul> <li>easily transplanted</li> <li>prefers acidic to neutral soil that is well-drained and moist</li> <li>full sun to partial shade</li> <li>can be heavily pruned</li> </ul>,\n",
       " <ul> <li>grouping or massing</li> <li>for summer bloom</li> <li>hedge</li> <li>foundation planting</li> <li>to attract butterflies</li> </ul>,\n",
       " <ul> <li>can look unkempt</li> <li>no serious pest problems</li> <li>lacks dependable cold hardiness in zone 5 or colder</li> </ul>,\n",
       " <ul> <li>small buds with two pairs of scales</li> <li>deciduous to semi-evergreen</li> <li>multistemmed, dense shrub with arching branches</li> <li>opposite leaf arrangement</li> <li>shallow, dentate leaf margins</li> <li>tubular pink flowers during summer</li> </ul>,\n",
       " <ul> <li>by cuttings</li> </ul>]"
      ]
     },
     "execution_count": 35,
     "metadata": {},
     "output_type": "execute_result"
    }
   ],
   "source": [
    "ul_tags"
   ]
  },
  {
   "cell_type": "code",
   "execution_count": null,
   "id": "7cfb32df-50d8-4d84-afab-6f7c23269fd3",
   "metadata": {},
   "outputs": [],
   "source": [
    "didn\n",
    "t work well"
   ]
  }
 ],
 "metadata": {
  "kernelspec": {
   "display_name": "Python 3 (ipykernel)",
   "language": "python",
   "name": "python3"
  },
  "language_info": {
   "codemirror_mode": {
    "name": "ipython",
    "version": 3
   },
   "file_extension": ".py",
   "mimetype": "text/x-python",
   "name": "python",
   "nbconvert_exporter": "python",
   "pygments_lexer": "ipython3",
   "version": "3.11.0"
  }
 },
 "nbformat": 4,
 "nbformat_minor": 5
}
