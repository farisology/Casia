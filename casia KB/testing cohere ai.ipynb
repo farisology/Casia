{
 "cells": [
  {
   "cell_type": "code",
   "execution_count": 2,
   "id": "2b8e715e-e34d-461c-a392-68d9c9967ee8",
   "metadata": {},
   "outputs": [
    {
     "name": "stdout",
     "output_type": "stream",
     "text": [
      "Prediction: \n",
      "Here are some tips for taking care of a Hibiscus plant:\n",
      "\n",
      "Watering: Hibiscus plants need regular watering, but be careful not to overwater as this can lead to root rot. Water the soil around the plant thoroughly when the top inch of soil feels dry.\n",
      "\n",
      "Light: Hibiscus plants need bright, indirect light to thrive. Place them near a window or in a room with plenty of natural light.\n",
      "\n",
      "Temperature: Hibiscus plants prefer warmer temperatures, between 65-85°F (18-29°C). Keep them away from drafts or cold windows.\n",
      "\n",
      "Humidity: Hibiscus plants can benefit from increased humidity, which can be provided by a humidifier or by placing the plant in a dish of water.\n",
      "\n",
      "Fertilizer: Hibiscus plants can be fed with a water-soluble liquid fertilizer every two weeks during the growing season.\n",
      "\n",
      "Pruning: Hibiscus plants can be pruned to encourage new growth and to keep them looking neat and tidy. Prune them in the spring or summer, after they have finished blooming.\n",
      "\n",
      "With proper care, Hibiscus plants can be a beautiful and rewarding addition to your home or garden.\n"
     ]
    }
   ],
   "source": [
    "import cohere\n",
    "co = cohere.Client('-') # This is your trial API key\n",
    "response = co.generate(\n",
    "  model='command',\n",
    "  prompt='how to take care of Hibiscus?',\n",
    "  max_tokens=300,\n",
    "  temperature=0.9,\n",
    "  k=0,\n",
    "  stop_sequences=[],\n",
    "  return_likelihoods='NONE')\n",
    "print('Prediction: {}'.format(response.generations[0].text))"
   ]
  },
  {
   "cell_type": "code",
   "execution_count": 4,
   "id": "cccf9ed4-7dcd-4b60-931e-4462f143178f",
   "metadata": {},
   "outputs": [
    {
     "name": "stdout",
     "output_type": "stream",
     "text": [
      "Prediction: \n",
      "Hibiscus is a flowering plant native to Southeast and Central Asia. It is known for its decorative leaves and flowers. Here are some tips on how to take care of a Hibiscus plant:\n",
      "\n",
      "Watering: Hibiscus requires regular watering, with a good soak once or twice a week. Allow the soil to dry out before watering again. Overwatering can cause your Hibiscus to wilt and die.\n",
      "\n",
      " sunlight: Place your Hibiscus in a bright, well-lit area with indirect sunlight. Too much direct sunlight can cause the leaves to turn brown and wilt.\n",
      "\n",
      "Humidity: Because Hibiscus is native to humid climates, it does best in a slightly humid environment. If your home is particularly dry, consider investing in a humidifier to help keep your Hibiscus thriving.\n",
      "\n",
      "Fertilizer: Apply a balanced, liquid fertilizer once a month during the growing season to help your Hibiscus thrive.\n",
      "\n",
      "Pruning: Prune your Hibiscus regularly to remove dead or damaged leaves and encourage healthy growth. Be sure to use clean, sharp scissors or shears to avoid damaging the plant.\n",
      "\n",
      "Overall, taking care of a Hibiscus plant requires regular watering, indirect sunlight, and occasional fertilizing and pruning. With proper care, your Hibiscus will thrive and produce beautiful flowers.\n"
     ]
    }
   ],
   "source": [
    "co = cohere.Client('-') # This is your trial API key\n",
    "response = co.generate(\n",
    "  model='command-light',\n",
    "  prompt='how to take care of Hibiscus?',\n",
    "  max_tokens=300,\n",
    "  temperature=0.9,\n",
    "  k=0,\n",
    "  stop_sequences=[],\n",
    "  return_likelihoods='NONE')\n",
    "print('Prediction: {}'.format(response.generations[0].text))"
   ]
  },
  {
   "cell_type": "code",
   "execution_count": null,
   "id": "1d0fb411-959e-42bd-bb0b-191e769db575",
   "metadata": {},
   "outputs": [],
   "source": []
  }
 ],
 "metadata": {
  "kernelspec": {
   "display_name": "Python 3 (ipykernel)",
   "language": "python",
   "name": "python3"
  },
  "language_info": {
   "codemirror_mode": {
    "name": "ipython",
    "version": 3
   },
   "file_extension": ".py",
   "mimetype": "text/x-python",
   "name": "python",
   "nbconvert_exporter": "python",
   "pygments_lexer": "ipython3",
   "version": "3.11.0"
  }
 },
 "nbformat": 4,
 "nbformat_minor": 5
}
