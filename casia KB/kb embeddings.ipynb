{
 "cells": [
  {
   "cell_type": "code",
   "execution_count": 18,
   "id": "9a22d1e1-d0c8-4a2e-be52-97edd5ba4feb",
   "metadata": {},
   "outputs": [],
   "source": [
    "import openai\n",
    "import pinecone\n",
    "import pandas as pd\n",
    "from uuid import uuid4\n",
    "from langchain.embeddings import HuggingFaceEmbeddings"
   ]
  },
  {
   "cell_type": "code",
   "execution_count": 2,
   "id": "7bc122ea-3ce9-4493-959e-58e617b9113d",
   "metadata": {},
   "outputs": [],
   "source": [
    "embeddings = HuggingFaceEmbeddings(model_name=\"sentence-transformers/all-mpnet-base-v2\")"
   ]
  },
  {
   "cell_type": "markdown",
   "id": "617d2a7d-1b15-4da6-b045-690d0fc82ad5",
   "metadata": {
    "scrolled": true
   },
   "source": [
    "## Produce embeddings and package vectors"
   ]
  },
  {
   "cell_type": "code",
   "execution_count": 19,
   "id": "47c92eb3-5314-4511-a3fa-35ef85eadf36",
   "metadata": {},
   "outputs": [],
   "source": [
    "openai.api_key = \"--\"\n",
    "pinecone.init(api_key = \"--\", environment = 'us-east1-gcp')\n",
    "vdb = pinecone.Index(\"testbed\")"
   ]
  },
  {
   "cell_type": "code",
   "execution_count": 20,
   "id": "384e254d-a3e6-4047-9f4a-d18e329b4c21",
   "metadata": {},
   "outputs": [],
   "source": [
    "df = pd.read_csv(\"clean plant DB.csv\")\n",
    "\n",
    "def gpt3_embedding(content, engine='text-embedding-ada-002'):\n",
    "    content = content.encode(encoding='ASCII',errors='ignore').decode()  # fix any UNICODE errors\n",
    "    response = openai.Embedding.create(input=content,engine=engine)\n",
    "    vector = response['data'][0]['embedding']  # this is a normal list\n",
    "    return vector\n",
    "    \n",
    "payload = list()\n",
    "\n",
    "for i, row in df.iterrows():\n",
    "    text = row[0]+row[1]+row[-1]\n",
    "    vector = gpt3_embedding(text)\n",
    "    unique_id = str(uuid4())\n",
    "    payload.append((unique_id, list(vector), {\"type\": \"Plants\", \"latin_name\": row[0], \"common_name\": row[1],\"text\":text}))\n",
    "    # break"
   ]
  },
  {
   "cell_type": "markdown",
   "id": "be7896a5-f66a-4407-931d-b8df4f8d8d9e",
   "metadata": {},
   "source": [
    "## Setup and upsert to pinecone VDB"
   ]
  },
  {
   "cell_type": "code",
   "execution_count": 21,
   "id": "67636062-982b-4bc1-add8-7c8b3f9775e9",
   "metadata": {},
   "outputs": [
    {
     "data": {
      "text/plain": [
       "{'upserted_count': 130}"
      ]
     },
     "execution_count": 21,
     "metadata": {},
     "output_type": "execute_result"
    }
   ],
   "source": [
    "vdb.upsert(payload, namespace=\"casia_kb\")"
   ]
  },
  {
   "cell_type": "markdown",
   "id": "4251c76f-0946-4960-b76b-5a30da162b25",
   "metadata": {},
   "source": [
    "## Plant 411 data"
   ]
  },
  {
   "cell_type": "code",
   "execution_count": 22,
   "id": "e7527501-2140-44eb-a9b6-9d695852e6e5",
   "metadata": {},
   "outputs": [
    {
     "data": {
      "text/html": [
       "<div>\n",
       "<style scoped>\n",
       "    .dataframe tbody tr th:only-of-type {\n",
       "        vertical-align: middle;\n",
       "    }\n",
       "\n",
       "    .dataframe tbody tr th {\n",
       "        vertical-align: top;\n",
       "    }\n",
       "\n",
       "    .dataframe thead th {\n",
       "        text-align: right;\n",
       "    }\n",
       "</style>\n",
       "<table border=\"1\" class=\"dataframe\">\n",
       "  <thead>\n",
       "    <tr style=\"text-align: right;\">\n",
       "      <th></th>\n",
       "      <th>Unnamed: 0</th>\n",
       "      <th>base_url</th>\n",
       "      <th>title</th>\n",
       "      <th>post_link</th>\n",
       "      <th>post_date</th>\n",
       "      <th>tags</th>\n",
       "      <th>post_content</th>\n",
       "    </tr>\n",
       "  </thead>\n",
       "  <tbody>\n",
       "    <tr>\n",
       "      <th>0</th>\n",
       "      <td>0</td>\n",
       "      <td>https://www.houseplant411.com/houseplant/page/1</td>\n",
       "      <td>8 Wandering Jew Plant Varieties You Need in Yo...</td>\n",
       "      <td>https://www.houseplant411.com/houseplant/8-wan...</td>\n",
       "      <td>NaN</td>\n",
       "      <td>NaN</td>\n",
       "      <td>Indoor plants are a great and affordable way t...</td>\n",
       "    </tr>\n",
       "    <tr>\n",
       "      <th>1</th>\n",
       "      <td>1</td>\n",
       "      <td>https://www.houseplant411.com/houseplant/page/1</td>\n",
       "      <td>Echeveria Plant</td>\n",
       "      <td>https://www.houseplant411.com/houseplant/echev...</td>\n",
       "      <td>NaN</td>\n",
       "      <td>NaN</td>\n",
       "      <td>An Echeveria is a succulent plant in the Crass...</td>\n",
       "    </tr>\n",
       "    <tr>\n",
       "      <th>2</th>\n",
       "      <td>2</td>\n",
       "      <td>https://www.houseplant411.com/houseplant/page/1</td>\n",
       "      <td>Staghorn Fern</td>\n",
       "      <td>https://www.houseplant411.com/houseplant/stagh...</td>\n",
       "      <td>NaN</td>\n",
       "      <td>NaN</td>\n",
       "      <td>A staghorn fern, also called an elkhorn fern, ...</td>\n",
       "    </tr>\n",
       "    <tr>\n",
       "      <th>3</th>\n",
       "      <td>3</td>\n",
       "      <td>https://www.houseplant411.com/houseplant/page/1</td>\n",
       "      <td>Persian Shield Plant</td>\n",
       "      <td>https://www.houseplant411.com/houseplant/persi...</td>\n",
       "      <td>NaN</td>\n",
       "      <td>NaN</td>\n",
       "      <td>A Persian Shield plant, sometimes called a Roy...</td>\n",
       "    </tr>\n",
       "    <tr>\n",
       "      <th>4</th>\n",
       "      <td>4</td>\n",
       "      <td>https://www.houseplant411.com/houseplant/page/1</td>\n",
       "      <td>Purple Waffle Plant</td>\n",
       "      <td>https://www.houseplant411.com/houseplant/purpl...</td>\n",
       "      <td>NaN</td>\n",
       "      <td>NaN</td>\n",
       "      <td>A Purple Waffle plant, also called Metal Leaf ...</td>\n",
       "    </tr>\n",
       "    <tr>\n",
       "      <th>...</th>\n",
       "      <td>...</td>\n",
       "      <td>...</td>\n",
       "      <td>...</td>\n",
       "      <td>...</td>\n",
       "      <td>...</td>\n",
       "      <td>...</td>\n",
       "      <td>...</td>\n",
       "    </tr>\n",
       "    <tr>\n",
       "      <th>137</th>\n",
       "      <td>137</td>\n",
       "      <td>https://www.houseplant411.com/houseplant/page/14</td>\n",
       "      <td>Parlor Palm</td>\n",
       "      <td>https://www.houseplant411.com/houseplant/parlo...</td>\n",
       "      <td>NaN</td>\n",
       "      <td>NaN</td>\n",
       "      <td>Chamadorea elegans (Neanthe bella or Neanthe ...</td>\n",
       "    </tr>\n",
       "    <tr>\n",
       "      <th>138</th>\n",
       "      <td>138</td>\n",
       "      <td>https://www.houseplant411.com/houseplant/page/14</td>\n",
       "      <td>Baby’s Tears Plant</td>\n",
       "      <td>https://www.houseplant411.com/houseplant/babys...</td>\n",
       "      <td>NaN</td>\n",
       "      <td>NaN</td>\n",
       "      <td>A Baby’s Tears plant, Helxine soleirolii, is n...</td>\n",
       "    </tr>\n",
       "    <tr>\n",
       "      <th>139</th>\n",
       "      <td>139</td>\n",
       "      <td>https://www.houseplant411.com/houseplant/page/14</td>\n",
       "      <td>Zamioculcas Zamiifolia-ZZ Plant</td>\n",
       "      <td>https://www.houseplant411.com/houseplant/zz-pl...</td>\n",
       "      <td>NaN</td>\n",
       "      <td>NaN</td>\n",
       "      <td>A ZZ plant, Zamioculcas zamiifolia, has many n...</td>\n",
       "    </tr>\n",
       "    <tr>\n",
       "      <th>140</th>\n",
       "      <td>140</td>\n",
       "      <td>https://www.houseplant411.com/houseplant/page/15</td>\n",
       "      <td>Shamrock Plant</td>\n",
       "      <td>https://www.houseplant411.com/houseplant/shamr...</td>\n",
       "      <td>NaN</td>\n",
       "      <td>NaN</td>\n",
       "      <td>A Shamrock plant is a member of the Oxalis gen...</td>\n",
       "    </tr>\n",
       "    <tr>\n",
       "      <th>141</th>\n",
       "      <td>141</td>\n",
       "      <td>https://www.houseplant411.com/houseplant/page/15</td>\n",
       "      <td>Hawaiian Ti Plant</td>\n",
       "      <td>https://www.houseplant411.com/houseplant/hawai...</td>\n",
       "      <td>NaN</td>\n",
       "      <td>NaN</td>\n",
       "      <td>A Hawaiian Ti plant, Cordyline fruticosa, is i...</td>\n",
       "    </tr>\n",
       "  </tbody>\n",
       "</table>\n",
       "<p>142 rows × 7 columns</p>\n",
       "</div>"
      ],
      "text/plain": [
       "     Unnamed: 0                                          base_url  \\\n",
       "0             0   https://www.houseplant411.com/houseplant/page/1   \n",
       "1             1   https://www.houseplant411.com/houseplant/page/1   \n",
       "2             2   https://www.houseplant411.com/houseplant/page/1   \n",
       "3             3   https://www.houseplant411.com/houseplant/page/1   \n",
       "4             4   https://www.houseplant411.com/houseplant/page/1   \n",
       "..          ...                                               ...   \n",
       "137         137  https://www.houseplant411.com/houseplant/page/14   \n",
       "138         138  https://www.houseplant411.com/houseplant/page/14   \n",
       "139         139  https://www.houseplant411.com/houseplant/page/14   \n",
       "140         140  https://www.houseplant411.com/houseplant/page/15   \n",
       "141         141  https://www.houseplant411.com/houseplant/page/15   \n",
       "\n",
       "                                                 title  \\\n",
       "0    8 Wandering Jew Plant Varieties You Need in Yo...   \n",
       "1                                      Echeveria Plant   \n",
       "2                                        Staghorn Fern   \n",
       "3                                 Persian Shield Plant   \n",
       "4                                  Purple Waffle Plant   \n",
       "..                                                 ...   \n",
       "137                                        Parlor Palm   \n",
       "138                                 Baby’s Tears Plant   \n",
       "139                    Zamioculcas Zamiifolia-ZZ Plant   \n",
       "140                                     Shamrock Plant   \n",
       "141                                  Hawaiian Ti Plant   \n",
       "\n",
       "                                             post_link  post_date  tags  \\\n",
       "0    https://www.houseplant411.com/houseplant/8-wan...        NaN   NaN   \n",
       "1    https://www.houseplant411.com/houseplant/echev...        NaN   NaN   \n",
       "2    https://www.houseplant411.com/houseplant/stagh...        NaN   NaN   \n",
       "3    https://www.houseplant411.com/houseplant/persi...        NaN   NaN   \n",
       "4    https://www.houseplant411.com/houseplant/purpl...        NaN   NaN   \n",
       "..                                                 ...        ...   ...   \n",
       "137  https://www.houseplant411.com/houseplant/parlo...        NaN   NaN   \n",
       "138  https://www.houseplant411.com/houseplant/babys...        NaN   NaN   \n",
       "139  https://www.houseplant411.com/houseplant/zz-pl...        NaN   NaN   \n",
       "140  https://www.houseplant411.com/houseplant/shamr...        NaN   NaN   \n",
       "141  https://www.houseplant411.com/houseplant/hawai...        NaN   NaN   \n",
       "\n",
       "                                          post_content  \n",
       "0    Indoor plants are a great and affordable way t...  \n",
       "1    An Echeveria is a succulent plant in the Crass...  \n",
       "2    A staghorn fern, also called an elkhorn fern, ...  \n",
       "3    A Persian Shield plant, sometimes called a Roy...  \n",
       "4    A Purple Waffle plant, also called Metal Leaf ...  \n",
       "..                                                 ...  \n",
       "137   Chamadorea elegans (Neanthe bella or Neanthe ...  \n",
       "138  A Baby’s Tears plant, Helxine soleirolii, is n...  \n",
       "139  A ZZ plant, Zamioculcas zamiifolia, has many n...  \n",
       "140  A Shamrock plant is a member of the Oxalis gen...  \n",
       "141  A Hawaiian Ti plant, Cordyline fruticosa, is i...  \n",
       "\n",
       "[142 rows x 7 columns]"
      ]
     },
     "execution_count": 22,
     "metadata": {},
     "output_type": "execute_result"
    }
   ],
   "source": [
    "pdf411 = pd.read_csv(\"plant_411_posts.csv\")\n",
    "\n",
    "pdf411"
   ]
  },
  {
   "cell_type": "code",
   "execution_count": 27,
   "id": "5ce40d3a-7b56-4785-9ed9-d2f3844ca019",
   "metadata": {},
   "outputs": [],
   "source": [
    "payload411 = list()\n",
    "\n",
    "for i, row in pdf411.iterrows():\n",
    "    text = row[2]+row[-1]\n",
    "    vector = gpt3_embedding(text)\n",
    "    unique_id = str(uuid4())\n",
    "    payload411.append((unique_id, list(vector), {\"type\": \"Plants\", \"common_name\": row[2],\"text\":text}))\n",
    "    # break"
   ]
  },
  {
   "cell_type": "code",
   "execution_count": 28,
   "id": "9446b67e-1d02-4539-a7b3-90da741a10b7",
   "metadata": {
    "scrolled": true
   },
   "outputs": [
    {
     "data": {
      "text/plain": [
       "{'upserted_count': 142}"
      ]
     },
     "execution_count": 28,
     "metadata": {},
     "output_type": "execute_result"
    }
   ],
   "source": [
    "vdb.upsert(payload411, namespace=\"casia_kb\")"
   ]
  },
  {
   "cell_type": "code",
   "execution_count": null,
   "id": "f9247040-af7d-49a9-a18e-7205184f3dad",
   "metadata": {},
   "outputs": [],
   "source": []
  }
 ],
 "metadata": {
  "kernelspec": {
   "display_name": "Python 3 (ipykernel)",
   "language": "python",
   "name": "python3"
  },
  "language_info": {
   "codemirror_mode": {
    "name": "ipython",
    "version": 3
   },
   "file_extension": ".py",
   "mimetype": "text/x-python",
   "name": "python",
   "nbconvert_exporter": "python",
   "pygments_lexer": "ipython3",
   "version": "3.11.0"
  }
 },
 "nbformat": 4,
 "nbformat_minor": 5
}
