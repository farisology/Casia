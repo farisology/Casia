{
 "cells": [
  {
   "cell_type": "code",
   "execution_count": 1,
   "id": "41696970-778b-48d0-b153-a9cafa8811d8",
   "metadata": {},
   "outputs": [
    {
     "name": "stderr",
     "output_type": "stream",
     "text": [
      "/Users/farisology/.pyenv/versions/3.11.0/envs/casiaenv/lib/python3.11/site-packages/pinecone/index.py:4: TqdmExperimentalWarning: Using `tqdm.autonotebook.tqdm` in notebook mode. Use `tqdm.tqdm` instead to force console mode (e.g. in jupyter console)\n",
      "  from tqdm.autonotebook import tqdm\n"
     ]
    }
   ],
   "source": [
    "import os\n",
    "import re\n",
    "import openai\n",
    "import pinecone\n",
    "from time import time, sleep"
   ]
  },
  {
   "cell_type": "code",
   "execution_count": 18,
   "id": "1c565b35-cae6-4295-8e11-5c284b2ed848",
   "metadata": {},
   "outputs": [],
   "source": [
    "# openai.api_key = \"--\"\n",
    "# pinecone.init(api_key = \"--\", environment = 'us-east1-gcp')\n",
    "# vdb = pinecone.Index(\"testbed\")\n",
    "\n",
    "def gpt3_embedding(content, engine='text-embedding-ada-002'):\n",
    "    content = content.encode(encoding='ASCII',errors='ignore').decode()  # fix any UNICODE errors\n",
    "    response = openai.Embedding.create(input=content,engine=engine)\n",
    "    vector = response['data'][0]['embedding']  # this is a normal list\n",
    "    return vector"
   ]
  },
  {
   "cell_type": "code",
   "execution_count": 3,
   "id": "b9e0f709-1258-430f-bb51-21ad535a576e",
   "metadata": {},
   "outputs": [],
   "source": [
    "a= \"what plants to grow in Malaysia?\"\n",
    "\n",
    "vector = gpt3_embedding(a)\n",
    "results = vdb.query(vector=vector, top_k=3, include_values=False, include_metadata=True, namespace=\"casia_kb\")"
   ]
  },
  {
   "cell_type": "code",
   "execution_count": 20,
   "id": "6b0ef5a6-6274-42fd-a92f-bc932de83775",
   "metadata": {},
   "outputs": [],
   "source": [
    "def save_file(filepath, content):\n",
    "    with open(filepath, 'w', encoding='utf-8') as outfile:\n",
    "        outfile.write(content)\n",
    "\n",
    "def chadgpt_completion(question, context):\n",
    "    max_retry = 5\n",
    "    retry = 0\n",
    "    preample = \"\"\"You are casia a wise botanist with vast knowledge in gardening and great servitude to human well-being. You will read the context passage -inclosed with tripple quotes- and reflect on the question then provide a specific beautiful answer using simple words with care and interest in the human sustainable way of living. Its your responsibility to answer based on what you know, if the context is not clear don't make up any answer and just reply humble that you don't know and maybe you can answer the question in the future.\n",
    "\n",
    "Passage:\"\"\"\n",
    "    while True:\n",
    "        try:\n",
    "            response = openai.ChatCompletion.create(\n",
    "                model=\"gpt-3.5-turbo-16k\",#'gpt-3.5-turbo',\n",
    "                messages=[\n",
    "                    {\"role\": \"system\", \"content\": f\"{preample}\"},\n",
    "                    {\"role\": \"assistant\", \"content\": f\"{context}\"},\n",
    "                    {\"role\": \"user\", \"content\": f\"{question}\"},\n",
    "                ],\n",
    "                temperature=0,\n",
    "                top_p=1.0, max_tokens=500, frequency_penalty=0.0, presence_penalty=0.0,\n",
    "            )\n",
    "            text = response[\"choices\"][0][\"message\"][\"content\"].strip()\n",
    "            text = re.sub('[\\r\\n]+', '\\n', text)\n",
    "            text = re.sub('[\\t ]+', ' ', text)\n",
    "            filename = '%s_gpt3.txt' % time()\n",
    "            if not os.path.exists('gpt3_logs'):\n",
    "                os.makedirs('gpt3_logs')\n",
    "            save_file('gpt3_logs/%s' % filename, preample +\n",
    "                      '\\n\\n==========\\n\\n' + text)\n",
    "            return text\n",
    "        except Exception as oops:\n",
    "            retry += 1\n",
    "            if retry >= max_retry:\n",
    "                return \"GPT3.5 turbo error: %s\" % oops\n",
    "            print('Error communicating with OpenAI:', oops)\n",
    "            sleep(1)"
   ]
  },
  {
   "cell_type": "code",
   "execution_count": 5,
   "id": "027c852e-a1a7-4dd3-a727-0ce0b1fc7bea",
   "metadata": {},
   "outputs": [
    {
     "data": {
      "text/plain": [
       "\"Malaysia has a tropical climate, which means that it is suitable for growing a wide variety of plants. Some plants that can be grown in Malaysia include:\\n1. Orchids - Malaysia is known for its beautiful orchids, which thrive in the warm and humid climate.\\n2. Banana trees - Bananas are a staple food in Malaysia, and banana trees are easy to grow in the tropical climate.\\n3. Herbs - Many herbs, such as lemongrass, ginger, and turmeric, grow well in Malaysia and are commonly used in Malaysian cuisine.\\n4. Tropical fruits - Malaysia is home to a wide variety of tropical fruits, including durian, rambutan, and mangosteen.\\n5. Ferns - Ferns are a popular ornamental plant in Malaysia and can be grown both indoors and outdoors.\\n6. Palm trees - Palm trees are a common sight in Malaysia and are used for both ornamental and commercial purposes.\\n7. Pitcher plants - Malaysia is home to a variety of carnivorous plants, including the famous pitcher plant, which is native to the country.\\n8. Bamboo - Bamboo is a versatile plant that can be used for construction, furniture, and even as a food source.\\nOverall, there are many plants that can be grown in Malaysia, and the country's warm and humid climate provides ideal growing conditions for a wide variety of plants.\""
      ]
     },
     "execution_count": 5,
     "metadata": {},
     "output_type": "execute_result"
    }
   ],
   "source": [
    "chadgpt_completion(a, '\\n'.join([info[\"metadata\"][\"text\"] for info in results[\"matches\"]]))"
   ]
  },
  {
   "cell_type": "markdown",
   "id": "858ed3df-06cd-4680-af2d-bf973e8f84ba",
   "metadata": {},
   "source": [
    "## next question"
   ]
  },
  {
   "cell_type": "code",
   "execution_count": 10,
   "id": "cbeb1faa-139e-4f72-b9ab-b42f798fbda7",
   "metadata": {},
   "outputs": [
    {
     "name": "stdout",
     "output_type": "stream",
     "text": [
      "Error communicating with OpenAI: This model's maximum context length is 4097 tokens. However, your messages resulted in 6099 tokens. Please reduce the length of the messages.\n",
      "Error communicating with OpenAI: This model's maximum context length is 4097 tokens. However, your messages resulted in 6099 tokens. Please reduce the length of the messages.\n",
      "Error communicating with OpenAI: This model's maximum context length is 4097 tokens. However, your messages resulted in 6099 tokens. Please reduce the length of the messages.\n",
      "Error communicating with OpenAI: This model's maximum context length is 4097 tokens. However, your messages resulted in 6099 tokens. Please reduce the length of the messages.\n"
     ]
    },
    {
     "data": {
      "text/plain": [
       "\"GPT3.5 turbo error: This model's maximum context length is 4097 tokens. However, your messages resulted in 6099 tokens. Please reduce the length of the messages.\""
      ]
     },
     "execution_count": 10,
     "metadata": {},
     "output_type": "execute_result"
    }
   ],
   "source": [
    "a= \"How to take care of orchids?\"\n",
    "\n",
    "vector = gpt3_embedding(a)\n",
    "results = vdb.query(vector=vector, top_k=3, include_values=False, include_metadata=True, namespace=\"casia_kb\")\n",
    "chadgpt_completion(a, '\\n'.join([info[\"metadata\"][\"text\"] for info in results[\"matches\"]]))"
   ]
  },
  {
   "cell_type": "code",
   "execution_count": 15,
   "id": "ac8820c8-b9fc-4be0-a84e-e42130f5fa84",
   "metadata": {},
   "outputs": [
    {
     "name": "stdout",
     "output_type": "stream",
     "text": [
      "Error communicating with OpenAI: This model's maximum context length is 4097 tokens. However, you requested 4458 tokens (3958 in the messages, 500 in the completion). Please reduce the length of the messages or completion.\n",
      "Error communicating with OpenAI: This model's maximum context length is 4097 tokens. However, you requested 4458 tokens (3958 in the messages, 500 in the completion). Please reduce the length of the messages or completion.\n",
      "Error communicating with OpenAI: This model's maximum context length is 4097 tokens. However, you requested 4458 tokens (3958 in the messages, 500 in the completion). Please reduce the length of the messages or completion.\n",
      "Error communicating with OpenAI: This model's maximum context length is 4097 tokens. However, you requested 4458 tokens (3958 in the messages, 500 in the completion). Please reduce the length of the messages or completion.\n"
     ]
    },
    {
     "data": {
      "text/plain": [
       "\"GPT3.5 turbo error: This model's maximum context length is 4097 tokens. However, you requested 4458 tokens (3958 in the messages, 500 in the completion). Please reduce the length of the messages or completion.\""
      ]
     },
     "execution_count": 15,
     "metadata": {},
     "output_type": "execute_result"
    }
   ],
   "source": [
    "a= \"How to take care of orchids?\"\n",
    "\n",
    "vector = gpt3_embedding(a)\n",
    "results = vdb.query(vector=vector, top_k=2, include_values=False, include_metadata=True, namespace=\"casia_kb\")\n",
    "chadgpt_completion(a, '\\n'.join([info[\"metadata\"][\"text\"] for info in results[\"matches\"]]))"
   ]
  },
  {
   "cell_type": "code",
   "execution_count": 16,
   "id": "164a7889-dcd2-42f8-8606-0b1a26bfde0c",
   "metadata": {},
   "outputs": [
    {
     "data": {
      "text/plain": [
       "'Orchids are beautiful and delicate plants that require proper care to thrive. Here are some tips for taking care of orchids:\\n1. Light: Orchids need bright, indirect light to grow and bloom. Avoid direct sunlight as it can burn the leaves.\\n2. Water: Overwatering is the most common mistake people make with orchids. Allow the top 50% of the potting compost to dry out before watering. Check the roots of an orchid plant monthly to be sure they are staying whitish green and plump. Set the plant in a deep saucer of water for about 30 minutes so it can absorb water through the drip holes in the bottom on the pot. Use tepid water that has not passed through a softener (too salty). If your household water has a lot of chemicals in it, allow the water to sit out overnight before using it.\\n3. Humidity: Orchids need high humidity, 50% or better. Setting an orchid plant in a stand and placing the stand in a tray filled with pebbles and water helps increase the humidity. Be sure the plant never sits directly in the water.\\n4. Fertilizer: Fertilize weakly, weekly when an orchid plant is actively growing. Dilute your plant food to 1/3-1/4 the recommended strength. Do not feed an orchid plant when it is dormant or when the plant is in bloom.\\n5. Temperature: Orchids do well when the temperature is 65°-80°F (18°-26° C) during the day and 15° cooler at night. In the fall, cool night temperatures help the flower spikes develop.\\n6. Soil: Orchid plants require a special soil and should never be planted in regular potting soil, it is much too dense. Use a bark-based or peat based soil that retains water, drains well, and allows the roots to “breathe.” Orchid plant soil should contain bark, sphagnum moss, and perlite.\\n7. Pruning: Prune an orchid plant when the flower stalk turns yellow or brown. Cut the stalk back to about an inch from where it originated on the main stem. Always remove any dead or diseased sections immediately, otherwise these sick areas of the plant attract more pests and diseases.\\nBy following these tips, you can help your orchids thrive and bloom for many years to come.'"
      ]
     },
     "execution_count": 16,
     "metadata": {},
     "output_type": "execute_result"
    }
   ],
   "source": [
    "a= \"How to take care of orchids?\"\n",
    "\n",
    "vector = gpt3_embedding(a)\n",
    "results = vdb.query(vector=vector, top_k=1, include_values=False, include_metadata=True, namespace=\"casia_kb\")\n",
    "chadgpt_completion(a, '\\n'.join([info[\"metadata\"][\"text\"] for info in results[\"matches\"]]))"
   ]
  },
  {
   "cell_type": "code",
   "execution_count": 19,
   "id": "4edd955c-3c8f-4143-bbc4-8e35ca28fbee",
   "metadata": {},
   "outputs": [
    {
     "data": {
      "text/plain": [
       "'Orchids are beautiful and delicate plants that require proper care to thrive. Here are some tips for taking care of orchids:\\n1. Light: Orchids need bright, indirect light to grow and bloom. Avoid direct sunlight as it can burn the leaves.\\n2. Water: Overwatering is the most common mistake people make with orchids. Allow the top 50% of the potting compost to dry out before watering. Check the roots of an orchid plant monthly to be sure they are staying whitish green and plump. Set the plant in a deep saucer of water for about 30 minutes so it can absorb water through the drip holes in the bottom on the pot. Use tepid water that has not passed through a softener (too salty). If your household water has a lot of chemicals in it, allow the water to sit out overnight before using it.\\n3. Humidity: Orchids need high humidity, 50% or better. Setting an orchid plant in a stand and placing the stand in a tray filled with pebbles and water helps increase the humidity. Be sure the plant never sits directly in the water.\\n4. Fertilizer: Fertilize weakly, weekly when an orchid plant is actively growing. Dilute your plant food to 1/3-1/4 the recommended strength. Do not feed an orchid plant when it is dormant or when the plant is in bloom.\\n5. Temperature: Orchids do well when the temperature is 65°-80°F (18°-26° C) during the day and 15° cooler at night. In the fall, cool night temperatures help the flower spikes develop.\\n6. Soil: Orchid plants require a special soil and should never be planted in regular potting soil, it is much too dense. Use a bark-based or peat based soil that retains water, drains well, and allows the roots to “breathe.” Orchid plant soil should contain bark, sphagnum moss, and perlite.\\n7. Pruning: Prune an orchid plant when the flower stalk turns yellow or brown. Cut the stalk back to about an inch from where it originated on the main stem. Always remove any dead or diseased sections immediately, otherwise these sick areas of the plant attract more pests and diseases.\\nBy following these tips, you can help your orchids thrive and bloom for many years to come.'"
      ]
     },
     "execution_count": 19,
     "metadata": {},
     "output_type": "execute_result"
    }
   ],
   "source": [
    "openai.apikey = \"--\"\n",
    "a= \"How to take care of orchids?\"\n",
    "\n",
    "vector = gpt3_embedding(a)\n",
    "results = vdb.query(vector=vector, top_k=1, include_values=False, include_metadata=True, namespace=\"casia_kb\")\n",
    "chadgpt_completion(a, '\\n'.join([info[\"metadata\"][\"text\"] for info in results[\"matches\"]]))"
   ]
  },
  {
   "cell_type": "code",
   "execution_count": 21,
   "id": "a21162dc-2c8b-4f74-9ceb-78b858e09b06",
   "metadata": {},
   "outputs": [
    {
     "data": {
      "text/plain": [
       "'Taking care of orchids requires attention to their specific needs. Here are some general guidelines to help you care for your orchids:\\n1. Light: Orchids need bright, indirect light. Place them near an east or west-facing window where they can receive about 10 hours of light a day. Avoid direct sunlight as it can damage the leaves.\\n2. Watering: Orchids should be watered when the top 50% of the potting compost is dry. Check the roots monthly to ensure they are whitish green and plump. Water the plant by placing it in a deep saucer of water for about 30 minutes, allowing it to absorb water through the drainage holes. Use tepid water that has not passed through a softener. Avoid over-watering, as it can lead to root rot.\\n3. Humidity: Orchids thrive in high humidity, around 50% or higher. Increase humidity by placing the orchid on a tray filled with pebbles and water. Ensure the plant does not sit directly in the water.\\n4. Fertilizing: Feed your orchid weakly and weekly when it is actively growing. Dilute the plant food to 1/3-1/4 the recommended strength. Avoid fertilizing when the plant is dormant or in bloom. There are specific orchid plant foods available, or you can use a well-balanced houseplant food at a reduced strength.\\n5. Temperature: Orchids prefer temperatures between 65°F-80°F (18°C-26°C) during the day and 15° cooler at night. Cooler night temperatures in the fall can help develop flower spikes. Maintain a consistent temperature to prevent bud drop.\\n6. Air circulation: Good air circulation is essential to prevent diseases. Place the orchid near a small fan to provide gentle airflow.\\n7. Potting: Orchids require a special potting mix that allows for water retention, good drainage, and root aeration. Use a bark-based or peat-based soil that contains bark, sphagnum moss, and perlite. Repot only when necessary, such as when the potting medium decomposes or the pseudobulbs outgrow the pot.\\n8. Pruning: Prune orchids after they finish blooming. Cut the flower stalk back to about an inch from where it originated on the main stem. Remove any dead or diseased sections promptly to prevent further issues. Pruning can help stimulate more flowers in the next'"
      ]
     },
     "execution_count": 21,
     "metadata": {},
     "output_type": "execute_result"
    }
   ],
   "source": [
    "a= \"How to take care of orchids?\"\n",
    "\n",
    "vector = gpt3_embedding(a)\n",
    "results = vdb.query(vector=vector, top_k=2, include_values=False, include_metadata=True, namespace=\"casia_kb\")\n",
    "chadgpt_completion(a, '\\n'.join([info[\"metadata\"][\"text\"] for info in results[\"matches\"]]))"
   ]
  },
  {
   "cell_type": "code",
   "execution_count": 22,
   "id": "35b9adcc-0296-4a28-9832-9b575d00adb4",
   "metadata": {},
   "outputs": [
    {
     "name": "stdout",
     "output_type": "stream",
     "text": [
      "Name: openai\n",
      "Version: 0.27.8\n",
      "Summary: Python client library for the OpenAI API\n",
      "Home-page: https://github.com/openai/openai-python\n",
      "Author: OpenAI\n",
      "Author-email: support@openai.com\n",
      "License: \n",
      "Location: /Users/farisology/.pyenv/versions/3.11.0/envs/casiaenv/lib/python3.11/site-packages\n",
      "Requires: aiohttp, requests, tqdm\n",
      "Required-by: \n"
     ]
    }
   ],
   "source": [
    "!pip show openai"
   ]
  },
  {
   "cell_type": "code",
   "execution_count": 23,
   "id": "03328eb6-483f-46ea-893a-3d2d2f8c7225",
   "metadata": {},
   "outputs": [],
   "source": [
    "a= \"How to take care of orchids?\"\n",
    "\n",
    "vector = gpt3_embedding(a)\n",
    "results = vdb.query(vector=vector, top_k=1, include_values=False, include_metadata=True, namespace=\"casia_kb\")"
   ]
  },
  {
   "cell_type": "code",
   "execution_count": 25,
   "id": "2ca98885-9cf3-48c6-8300-c079e2731abc",
   "metadata": {},
   "outputs": [
    {
     "data": {
      "text/plain": [
       "'Orchid – Phalaenopsis Orchid PlantOrchid plants are one of the largest plant species in the world with over 100,000 different varieties, but only small percentage are suitable for growing indoors. A phalaenopsis orchid plant, also known as the Moth Orchid, is one of the varieties that does quite well. There are about 45 species in the\\xa0Phalaenopsis\\xa0genus and most are native to India, southern China, and Southeast Asia. A phalaenopsis orchid is a type of epiphytic plant which means, in nature, it grows\\xa0on the trunks and branches of trees. As\\xa0a houseplant, and with proper care, a phalaenopsis orchid plant blooms again and again for many years. It has become very popular because unlike other orchid plants, it has no resting period and may flower several times throughout the year.\\nIn nature a phalaenopsis orchid plant sends out aerial roots so it can cling to trees, so as a houseplant\\xa0most of its roots are above the pot and grow outside the container. This is perfectly normal so don’t cut them off. \\xa0Tall flower stalks grow out of the leaf joints and produce 3″-6″ wide, flattened flowers. The exquisite flowers grow in a line on long arching stems and can be yellow, white, pink, lavender, purple, cream, spotted, or striped. \\xa0They often last 2-3 months. The large, leathery, green, succulent leaves, as much as 18” long, are elliptic in shape and grow directly from the roots.\\nPhalaenopsis Orchid plants are a beautiful, inexpensive replacement for a cut flower arrangement or just an added delight for any room in your home or office. Now that they are being mass produced in greenhouses throughout the world, they\\xa0are fairly inexpensive and easily available.\\nThere is an orchid plant for almost any lighting condition, but none like being in the direct sun. If an area is too dark, the leaves turn dark green instead of the grassy yellow green they should be and the orchid plant doesn’t bloom. If there is too much light, the leaves turn yellow and develop sunspots. A location near an east or west-facing window is usually the best location. Most orchid plants prefer about 10 hours of light a day.\\nThe easiest way to kill any Orchid Plant is by over-watering. Always allow the top 50% of the potting compost to dry out before watering. Check the roots of an Orchid Plant monthly to be sure they are staying whitish green and plump. Set the plant in a deep saucer of water for about 30 minutes so it can absorb water through the drip holes in the bottom on the pot. Use tepid water that has not passed through a softener (too salty). If your household water has a lot of chemicals in it, allow the water to sit out over night before using it. Type of soil, temperature, time of year, humidity, and pot size all influence an orchid plant’s watering needs. Orchids dry out a little faster in the winter because of the heat in your home and low humidity.\\nFertilize weakly, weekly when an orchid plant is actively growing. Dilute your plant food to 1/3-1/4 the recommended strength. Do not feed an orchid plant when it is dormant or when the plant is in bloom. There are excellent orchid plant foods on the market. You can also use a well- balanced houseplant food at 1/3-1/4 the recommended strength.\\nOrchid plants do well when the temperature is 65°-80°F (18°-26° C) during the day and 15° cooler at night. In the fall, cool night temperatures help the flower spikes develop. Once the orchid buds appear try to keep the temperature constant or the buds may fall off.\\nHigh humidity, 50% or better, is essential. Setting an orchid plant in a stand and placing the stand in a tray filled with pebbles and water helps increase the humidity. Be sure the plant never sits directly in the water.\\nOrchid plants usually flower from December-May and the flowers can last several months. The spectacular blooms can be as small as 1″ or as large as 5″ depending upon the orchid variety. Try not to get water on the flowers.\\nAphids, scale, mealy bugs, and spider mites can be a problem. Good air circulation and near a small fan. The slight breeze also encourages flowers to develop faster. The best ways to treat any insects or pests is to dab them off with a Qtip dipped in alcohol or wipe them off with a soft cloth dipped in soapy water.\\nOrchid plants are prone to viruses, bacterial infections, and fungal infections. Increasing the air circulation around an is very beneficial in preventing diseases.\\nOrchid plants require a special soil and should never be planted in regular potting soil, it is much too dense. Use a bark-based or peat based soil that retains water, drains well, and allows the roots to “breathe.” Orchid plant soil should contain bark, sphagnum moss, and perlite. There are several commercial soils that are specifically for orchids.\\nRe-pot only if the potting medium has decomposed and is not draining quickly enough or if the orchid plant pseudobulbs have outgrown the pot. Remove the orchid from its old pot, shake off the soil around the pseudobulbs, place the plant in its new pot, and then fill in with the new potting mixture.\\nIn nature, orchids get much of their food and water from the air, so never cut off any air roots that emerge from the soil. When the flower stalk turns yellow or brown, it’s time to prune. Cut the stalk back to about an inch from where it originated on the main stem. Use a clean razor blade or very sharp knife when pruning. Always remove any dead or diseased sections immediately, otherwise these sick areas of the plant attract more pests and diseases. Another pruning method for is to wait until your plant has finished blooming, look for tiny bumps or nodes on the flower spike. Find the third node from the bottom and cut the spike off 1″ above that node. Pruning an orchid plant helps the plant produce more flowers during the next season.\\nOrchid plants are propagated by plant division if they are sympodial, such as a Cattleya Orchid, or by stem cuttings if they are monopodeal, such as a phalaenopsis orchid. Read marabout propagation techniques in the Glossary of the website.\\nAllvarietiesof orchid plants are non poisonous and safe to have around cat, dogs, and other pets.\\nCut your Orchid Plant stem about an inch from where the flower stem originated on the main stem. Another pruning method is after the Orchid Plant has finished blooming, look for tiny bumps or nodes on the flower spike. Find the third from the bottom and cut the spike off 1″ above this node.\\nLeaves on an Orchid Plant usually become wrinkled when the plant is very dry and needs water. Alternatively, or you may have over-watered your Orchid Plant causing the roots to die, and now the plant can no longer absorb water. If the pseudo-bulbs of your Orchid Plant that are above the soil are shriveled, give the plant more water. You can also carefully take the Orchid Plant out of its pot and check the soil to be sure it’s not soggy at the very bottom. Orchid Plants do not like wet feet! Orchid Plant roots are healthy if they are greenish white and plump.\\nOne of the main reasons an Orchid Plant doesn’t bloom is insufficient light. Start by moving your Orchid Plant to a brighter location. The leaves of an Orchid Plant should be a light to medium green color. Dark green leaves means an Orchid Plant needs more light. Orchid Plants also need a resting period for a month or so in a\\xa0low light. cool area. While your Orchid Plant is resting, allow the soil to practically dry out before watering. This resting period helps an Orchid Plant go through the proper growth cycle. After about a month or two, move the Orchid Plant back to its previous spot in your home. Be sure to fertilize an Orchid Plant once it starts producing new leaves.\\nThere are several things that cause bud drop on Orchid Houseplants. The first thing is check the moisture in the soil to see if you may be giving your Orchid Plant too much or too little water. The temperature of the location where the Orchid plant sits may be too hot or too cold. Try to keep the temperature above 55 degrees but below 80 degrees. Avoid placing an Orchid Plant near air conditioners and heaters and try not to move an Orchid Plant too often.\\nThe amount of time an Orchid Plant blooms depends upon the species of orchid plant. A Phaleonopsis Orchid can bloom for 1-4 months while a Cattleya Orchid blooms for 1-4 weeks.'"
      ]
     },
     "execution_count": 25,
     "metadata": {},
     "output_type": "execute_result"
    }
   ],
   "source": [
    "'\\n'.join([info[\"metadata\"][\"text\"] for info in results[\"matches\"]])"
   ]
  },
  {
   "cell_type": "code",
   "execution_count": null,
   "id": "49558d29-4e09-4d66-947b-612fd1582344",
   "metadata": {},
   "outputs": [],
   "source": []
  }
 ],
 "metadata": {
  "kernelspec": {
   "display_name": "Python 3 (ipykernel)",
   "language": "python",
   "name": "python3"
  },
  "language_info": {
   "codemirror_mode": {
    "name": "ipython",
    "version": 3
   },
   "file_extension": ".py",
   "mimetype": "text/x-python",
   "name": "python",
   "nbconvert_exporter": "python",
   "pygments_lexer": "ipython3",
   "version": "3.11.0"
  }
 },
 "nbformat": 4,
 "nbformat_minor": 5
}
